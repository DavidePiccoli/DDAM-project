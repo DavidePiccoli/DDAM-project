{
 "cells": [
  {
   "cell_type": "code",
   "execution_count": 12,
   "id": "c94fb537-ad19-48c1-807d-08acc0d2e072",
   "metadata": {
    "tags": []
   },
   "outputs": [],
   "source": [
    "from pyspark.sql import SparkSession\n",
    "from pyspark.sql.functions import count, when, col"
   ]
  },
  {
   "cell_type": "code",
   "execution_count": 13,
   "id": "dd153f54-46cf-425c-b886-66e791baa0de",
   "metadata": {
    "tags": []
   },
   "outputs": [],
   "source": [
    "# Build the SparkSession\n",
    "spark = SparkSession.builder \\\n",
    "   .master(\"local\") \\\n",
    "   .appName(\"DDAM Project\") \\\n",
    "   .config(\"spark.executor.memory\", \"1gb\") \\\n",
    "   .getOrCreate()\n",
    "   \n",
    "sc = spark.sparkContext"
   ]
  },
  {
   "cell_type": "code",
   "execution_count": 14,
   "id": "d253d605-7296-4ca4-b3b9-bf10ba7735b7",
   "metadata": {
    "tags": []
   },
   "outputs": [
    {
     "name": "stderr",
     "output_type": "stream",
     "text": [
      "                                                                                \r"
     ]
    }
   ],
   "source": [
    "df_boxscore = spark.read.csv(\"data/boxscore.csv\", header=True, inferSchema=True)\n",
    "df_games = spark.read.csv(\"data/games.csv\", header=True, inferSchema=True)\n",
    "df_salaries = spark.read.csv(\"data/salaries.csv\", header=True, inferSchema=True)"
   ]
  },
  {
   "cell_type": "code",
   "execution_count": 15,
   "id": "ca8b01f3-3c80-45b1-acd6-2ac9aacb54a7",
   "metadata": {
    "tags": []
   },
   "outputs": [
    {
     "name": "stdout",
     "output_type": "stream",
     "text": [
      "+-------+----------------+------------------+-----+---+---+---+---+---+---+---+---+---+---+---+---+---+---+---+---+---------+\n",
      "|game_id|        teamName|        playerName|   MP| FG|FGA| 3P|3PA| FT|FTA|ORB|DRB|TRB|AST|STL|BLK|TOV| PF|PTS|+/-|isStarter|\n",
      "+-------+----------------+------------------+-----+---+---+---+---+---+---+---+---+---+---+---+---+---+---+---+---+---------+\n",
      "|      1|Sacramento Kings|Corliss Williamson|37:20|  7| 11|  0|  0|  0|  0|  1|  3|  4|  4|  1|  1|  4|  5| 14| -2|        1|\n",
      "|      1|Sacramento Kings|    Mitch Richmond|32:00|  6| 12|  1|  4|  1|  1|  0|  5|  5|  3|  1|  2|  3|  1| 14|-12|        1|\n",
      "|      1|Sacramento Kings|    Olden Polynice|31:34|  0|  4|  0|  0|  1|  4|  2|  5|  7|  3|  1|  0|  4|  3|  1|-12|        1|\n",
      "|      1|Sacramento Kings|Mahmoud Abdul-Rauf|29:27|  7| 13|  1|  2|  2|  2|  0|  2|  2|  5|  1|  1|  2|  2| 17| -7|        1|\n",
      "|      1|Sacramento Kings|       Brian Grant|25:13|  3| 11|  0|  0|  2|  2|  1|  5|  6|  0|  0|  2|  1|  2|  8| -7|        1|\n",
      "+-------+----------------+------------------+-----+---+---+---+---+---+---+---+---+---+---+---+---+---+---+---+---+---------+\n",
      "only showing top 5 rows\n",
      "\n"
     ]
    }
   ],
   "source": [
    "df_boxscore.show(5)"
   ]
  },
  {
   "cell_type": "code",
   "execution_count": 16,
   "id": "ada3d09a-c412-44a8-877b-3d94d70d6d18",
   "metadata": {
    "tags": []
   },
   "outputs": [
    {
     "name": "stdout",
     "output_type": "stream",
     "text": [
      "+---------------+--------------------+----------+--------------------+----------+----------+-----+-------+----------+---------+-------+\n",
      "|seasonStartYear|            awayTeam|pointsAway|            homeTeam|pointsHome|attendance|notes|startET|  datetime|isRegular|game_id|\n",
      "+---------------+--------------------+----------+--------------------+----------+----------+-----+-------+----------+---------+-------+\n",
      "|           1996|    Sacramento Kings|        85|     Houston Rockets|        96|   16285.0| NULL|   NULL|1996-11-01|        1|      1|\n",
      "|           1996|Los Angeles Clippers|        97|Golden State Warr...|        85|   15593.0| NULL|   NULL|1996-11-01|        1|      2|\n",
      "|           1996|Portland Trail Bl...|       114| Vancouver Grizzlies|        85|   19193.0| NULL|   NULL|1996-11-01|        1|      3|\n",
      "|           1996| Seattle SuperSonics|        91|           Utah Jazz|        99|   19911.0| NULL|   NULL|1996-11-01|        1|      4|\n",
      "|           1996|     New York Knicks|       107|     Toronto Raptors|        99|   28457.0| NULL|   NULL|1996-11-01|        1|      5|\n",
      "+---------------+--------------------+----------+--------------------+----------+----------+-----+-------+----------+---------+-------+\n",
      "only showing top 5 rows\n",
      "\n"
     ]
    }
   ],
   "source": [
    "df_games.show(5)"
   ]
  },
  {
   "cell_type": "code",
   "execution_count": 17,
   "id": "d9920481-844b-4aa6-bf23-0359f87d4522",
   "metadata": {
    "tags": []
   },
   "outputs": [
    {
     "name": "stdout",
     "output_type": "stream",
     "text": [
      "+----------------+---------------+-----------+------------------+\n",
      "|      playerName|seasonStartYear|     salary|inflationAdjSalary|\n",
      "+----------------+---------------+-----------+------------------+\n",
      "|  Michael Jordan|           1996|$30,140,000|       $52,258,566|\n",
      "|    Horace Grant|           1996|$14,857,000|       $25,759,971|\n",
      "|   Reggie Miller|           1996|$11,250,000|       $19,505,934|\n",
      "|Shaquille O'Neal|           1996|$10,714,000|       $18,576,585|\n",
      "|     Gary Payton|           1996|$10,212,000|       $17,706,187|\n",
      "+----------------+---------------+-----------+------------------+\n",
      "only showing top 5 rows\n",
      "\n"
     ]
    }
   ],
   "source": [
    "df_salaries.show(5)"
   ]
  },
  {
   "cell_type": "code",
   "execution_count": 18,
   "id": "dd82f963-efcc-41b5-84d9-4cccd37dacd0",
   "metadata": {},
   "outputs": [
    {
     "name": "stdout",
     "output_type": "stream",
     "text": [
      "+---------------+-------+\n",
      "|seasonStartYear|game_id|\n",
      "+---------------+-------+\n",
      "|           1996|      1|\n",
      "|           1996|      2|\n",
      "|           1996|      3|\n",
      "|           1996|      4|\n",
      "|           1996|      5|\n",
      "+---------------+-------+\n",
      "only showing top 5 rows\n",
      "\n"
     ]
    }
   ],
   "source": [
    "#removing notes and startET from df_games\n",
    "columns_to_drop = [\"awayTeam\", \"pointsAway\", \"homeTeam\", \"pointsHome\", \"attendance\", \"notes\", \"startET\", \"datetime\", \"isRegular\"]\n",
    "\n",
    "# Drop the specified columns\n",
    "df_games = df_games.drop(*columns_to_drop)\n",
    "\n",
    "# Show the first 5 rows of the updated df_games DataFrame\n",
    "df_games.show(5)"
   ]
  },
  {
   "cell_type": "code",
   "execution_count": 19,
   "id": "afc8bf60-4f2e-4c9b-9517-f431c57b6110",
   "metadata": {
    "tags": []
   },
   "outputs": [],
   "source": [
    "#here the plot of the years (the flat line)"
   ]
  },
  {
   "cell_type": "code",
   "execution_count": 20,
   "id": "a3a0194c-c324-4ab4-9032-3eb2bf7c4a2d",
   "metadata": {
    "tags": []
   },
   "outputs": [
    {
     "name": "stdout",
     "output_type": "stream",
     "text": [
      "+---------------+-------+\n",
      "|seasonStartYear|game_id|\n",
      "+---------------+-------+\n",
      "|           2000|   4577|\n",
      "|           2000|   4578|\n",
      "|           2000|   4579|\n",
      "|           2000|   4580|\n",
      "|           2000|   4581|\n",
      "+---------------+-------+\n",
      "only showing top 5 rows\n",
      "\n"
     ]
    }
   ],
   "source": [
    "\n",
    "df_games = df_games.filter((col(\"seasonStartYear\") >= 2000) & (col(\"seasonStartYear\") <= 2010))\n",
    "df_games.show(5)"
   ]
  },
  {
   "cell_type": "code",
   "execution_count": 21,
   "id": "621709d8-f074-4641-aa35-c9ba05e10e24",
   "metadata": {
    "tags": []
   },
   "outputs": [
    {
     "name": "stdout",
     "output_type": "stream",
     "text": [
      "+----------------+---------------+-----------+------------------+\n",
      "|      playerName|seasonStartYear|     salary|inflationAdjSalary|\n",
      "+----------------+---------------+-----------+------------------+\n",
      "|   Kevin Garnett|           2000|$19,610,000|       $30,904,632|\n",
      "|Shaquille O'Neal|           2000|$19,285,715|       $30,393,570|\n",
      "| Alonzo Mourning|           2000|$16,880,000|       $26,602,253|\n",
      "|    Juwan Howard|           2000|$16,875,000|       $26,594,373|\n",
      "| Hakeem Olajuwon|           2000|$16,700,000|       $26,318,580|\n",
      "+----------------+---------------+-----------+------------------+\n",
      "only showing top 5 rows\n",
      "\n"
     ]
    }
   ],
   "source": [
    "df_salaries = df_salaries.filter((col(\"seasonStartYear\") >= 2000) & (col(\"seasonStartYear\") <= 2010))\n",
    "df_salaries.show(5)"
   ]
  },
  {
   "cell_type": "code",
   "execution_count": 22,
   "id": "915cccc6-4b1e-4684-a44d-e79d31b1445a",
   "metadata": {
    "tags": []
   },
   "outputs": [
    {
     "name": "stderr",
     "output_type": "stream",
     "text": [
      "[Stage 27:>                                                         (0 + 1) / 1]\r"
     ]
    },
    {
     "name": "stdout",
     "output_type": "stream",
     "text": [
      "+-------+-------------------+-------------+-----+---+---+---+---+---+---+---+---+---+---+---+---+---+---+---+---+---------+\n",
      "|game_id|           teamName|   playerName|   MP| FG|FGA| 3P|3PA| FT|FTA|ORB|DRB|TRB|AST|STL|BLK|TOV| PF|PTS|+/-|isStarter|\n",
      "+-------+-------------------+-------------+-----+---+---+---+---+---+---+---+---+---+---+---+---+---+---+---+---+---------+\n",
      "|   4577|Seattle SuperSonics|  Gary Payton|48:00| 10| 26|  2|  9|  5|  7|  4| 10| 14| 10|  1|  0|  6|  4| 27| -6|        1|\n",
      "|   4577|Seattle SuperSonics|    Vin Baker|37:28|  7| 16|  0|  0|  5|  6|  2|  5|  7|  1|  1|  4|  3|  3| 19|  0|        1|\n",
      "|   4577|Seattle SuperSonics|Patrick Ewing|36:36|  1|  6|  0|  0|  0|  0|  2| 10| 12|  2|  0|  2|  3|  4|  2|-15|        1|\n",
      "|   4577|Seattle SuperSonics|Rashard Lewis|34:32|  3| 10|  2|  5|  3|  4|  1|  4|  5|  1|  1|  0|  3|  5| 11| -4|        1|\n",
      "|   4577|Seattle SuperSonics|Desmond Mason|17:01|  3|  9|  0|  3|  1|  2|  3|  2|  5|  2|  0|  1|  1|  5|  7|-15|        1|\n",
      "+-------+-------------------+-------------+-----+---+---+---+---+---+---+---+---+---+---+---+---+---+---+---+---+---------+\n",
      "only showing top 5 rows\n",
      "\n"
     ]
    },
    {
     "name": "stderr",
     "output_type": "stream",
     "text": [
      "                                                                                \r"
     ]
    }
   ],
   "source": [
    "#game_id that are played between 2000 and 2010\n",
    "selected_game_ids = df_games.select(\"game_id\").distinct()\n",
    "\n",
    "#filter salaries based on game_id\n",
    "\n",
    "df_boxscore = df_boxscore.join(selected_game_ids, \"game_id\")\n",
    "\n",
    "df_boxscore.show(5)"
   ]
  },
  {
   "cell_type": "code",
   "execution_count": 23,
   "id": "26822484-7b42-450e-b9e4-95f7e5ba837d",
   "metadata": {
    "tags": []
   },
   "outputs": [
    {
     "name": "stderr",
     "output_type": "stream",
     "text": [
      "                                                                                \r"
     ]
    }
   ],
   "source": [
    "#writing csv for the sharing via github\n",
    "output_path = \"data/df_boxscore_2000-2010\"\n",
    "df_boxscore.write.csv(output_path, header=True, mode=\"overwrite\")\n",
    "\n",
    "output_path = \"data/df_salaries_2000-2010\"\n",
    "df_salaries.write.csv(output_path, header=True, mode=\"overwrite\")"
   ]
  },
  {
   "cell_type": "code",
   "execution_count": null,
   "id": "8ab4a7cd-faa9-41ff-8399-0647f7d3a93e",
   "metadata": {},
   "outputs": [],
   "source": [
    "##########################"
   ]
  },
  {
   "cell_type": "code",
   "execution_count": 38,
   "id": "086ef41d-2f89-4d2e-984a-1ac4a112afee",
   "metadata": {
    "tags": []
   },
   "outputs": [
    {
     "name": "stderr",
     "output_type": "stream",
     "text": [
      "[Stage 55:>                                                         (0 + 1) / 1]\r"
     ]
    },
    {
     "name": "stdout",
     "output_type": "stream",
     "text": [
      "+-------+--------+----------+---+---+---+---+---+---+---+---+---+---+---+---+---+---+---+---+---+---------+\n",
      "|game_id|teamName|playerName| MP| FG|FGA| 3P|3PA| FT|FTA|ORB|DRB|TRB|AST|STL|BLK|TOV| PF|PTS|+/-|isStarter|\n",
      "+-------+--------+----------+---+---+---+---+---+---+---+---+---+---+---+---+---+---+---+---+---+---------+\n",
      "|      0|       0|         0|  0|  0|  0|  0|  0|  0|  0|  0|  0|  0|  0|  0|  0|  0|  0|  0| 19|        0|\n",
      "+-------+--------+----------+---+---+---+---+---+---+---+---+---+---+---+---+---+---+---+---+---+---------+\n",
      "\n"
     ]
    },
    {
     "name": "stderr",
     "output_type": "stream",
     "text": [
      "                                                                                \r"
     ]
    }
   ],
   "source": [
    "from pyspark.sql.functions import col,isnan, when, count\n",
    "df_boxscore.select([count(when(isnan(c) | col(c).isNull(), c)).alias(c) for c in df_boxscore.columns]\n",
    "   ).show()"
   ]
  },
  {
   "cell_type": "code",
   "execution_count": 39,
   "id": "363fd9d6-ebf0-479f-846a-729a87fce830",
   "metadata": {
    "tags": []
   },
   "outputs": [
    {
     "name": "stdout",
     "output_type": "stream",
     "text": [
      "+---------------+--------+----------+--------+----------+----------+-----+-------+-------------------+---------+-------+\n",
      "|seasonStartYear|awayTeam|pointsAway|homeTeam|pointsHome|attendance|notes|startET|datetime_null_count|isRegular|game_id|\n",
      "+---------------+--------+----------+--------+----------+----------+-----+-------+-------------------+---------+-------+\n",
      "|              0|       0|         0|       0|         0|         0|14245|      0|                  0|        0|      0|\n",
      "+---------------+--------+----------+--------+----------+----------+-----+-------+-------------------+---------+-------+\n",
      "\n"
     ]
    }
   ],
   "source": [
    "# Create a list comprehension to count null or NaN values for each column\n",
    "counts_expr = [count(when(col(c).isNull(), c)).alias(c) if c != 'datetime' else count(when(col(c).isNull(), c)).alias(c+'_null_count') for c in df_games.columns]\n",
    "\n",
    "# Apply the counts expression to the DataFrame\n",
    "df_games.select(counts_expr).show()"
   ]
  },
  {
   "cell_type": "code",
   "execution_count": 40,
   "id": "fe9b8e3e-13e8-4df0-93f1-bb1a2d4e6e01",
   "metadata": {
    "tags": []
   },
   "outputs": [
    {
     "name": "stdout",
     "output_type": "stream",
     "text": [
      "+----------+---------------+------+------------------+\n",
      "|playerName|seasonStartYear|salary|inflationAdjSalary|\n",
      "+----------+---------------+------+------------------+\n",
      "|         0|              0|     0|                 0|\n",
      "+----------+---------------+------+------------------+\n",
      "\n"
     ]
    }
   ],
   "source": [
    "from pyspark.sql.functions import col,isnan, when, count\n",
    "df_salaries.select([count(when(isnan(c) | col(c).isNull(), c)).alias(c) for c in df_salaries.columns]\n",
    "   ).show()"
   ]
  },
  {
   "cell_type": "code",
   "execution_count": null,
   "id": "b72a6fda-d5f7-48ab-bca5-1248acd19a01",
   "metadata": {},
   "outputs": [],
   "source": []
  }
 ],
 "metadata": {
  "kernelspec": {
   "display_name": "Python 3 (ipykernel)",
   "language": "python",
   "name": "python3"
  },
  "language_info": {
   "codemirror_mode": {
    "name": "ipython",
    "version": 3
   },
   "file_extension": ".py",
   "mimetype": "text/x-python",
   "name": "python",
   "nbconvert_exporter": "python",
   "pygments_lexer": "ipython3",
   "version": "3.10.11"
  }
 },
 "nbformat": 4,
 "nbformat_minor": 5
}
