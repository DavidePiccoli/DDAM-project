{
 "cells": [
  {
   "cell_type": "code",
   "execution_count": 116,
   "id": "c94fb537-ad19-48c1-807d-08acc0d2e072",
   "metadata": {
    "tags": []
   },
   "outputs": [],
   "source": [
    "from pyspark.sql import SparkSession\n",
    "from pyspark.sql.functions import count, when, col"
   ]
  },
  {
   "cell_type": "code",
   "execution_count": 117,
   "id": "dd153f54-46cf-425c-b886-66e791baa0de",
   "metadata": {
    "tags": []
   },
   "outputs": [],
   "source": [
    "# Build the SparkSession\n",
    "spark = SparkSession.builder \\\n",
    "   .master(\"local\") \\\n",
    "   .appName(\"DDAM Project\") \\\n",
    "   .config(\"spark.executor.memory\", \"1gb\") \\\n",
    "   .getOrCreate()\n",
    "   \n",
    "sc = spark.sparkContext"
   ]
  },
  {
   "cell_type": "markdown",
   "id": "e8610199-706b-414a-b63d-e4c35975871a",
   "metadata": {},
   "source": [
    "# import"
   ]
  },
  {
   "cell_type": "code",
   "execution_count": 118,
   "id": "d253d605-7296-4ca4-b3b9-bf10ba7735b7",
   "metadata": {
    "tags": []
   },
   "outputs": [
    {
     "name": "stderr",
     "output_type": "stream",
     "text": [
      "                                                                                \r"
     ]
    }
   ],
   "source": [
    "df_boxscore = spark.read.csv(\"data/boxscore.csv\", header=True, inferSchema=True)\n",
    "df_games = spark.read.csv(\"data/games.csv\", header=True, inferSchema=True)\n",
    "df_salaries = spark.read.csv(\"data/salaries.csv\", header=True, inferSchema=True)"
   ]
  },
  {
   "cell_type": "code",
   "execution_count": 119,
   "id": "5080b479-1206-4a53-8579-2a6ee45def2c",
   "metadata": {
    "tags": []
   },
   "outputs": [
    {
     "name": "stdout",
     "output_type": "stream",
     "text": [
      "741569 30250 11583\n"
     ]
    }
   ],
   "source": [
    "print(df_boxscore.count(), df_games.count(), df_salaries.count())"
   ]
  },
  {
   "cell_type": "code",
   "execution_count": 120,
   "id": "ca8b01f3-3c80-45b1-acd6-2ac9aacb54a7",
   "metadata": {
    "tags": []
   },
   "outputs": [
    {
     "name": "stdout",
     "output_type": "stream",
     "text": [
      "+-------+----------------+------------------+-----+---+---+---+---+---+---+---+---+---+---+---+---+---+---+---+---+---------+\n",
      "|game_id|        teamName|        playerName|   MP| FG|FGA| 3P|3PA| FT|FTA|ORB|DRB|TRB|AST|STL|BLK|TOV| PF|PTS|+/-|isStarter|\n",
      "+-------+----------------+------------------+-----+---+---+---+---+---+---+---+---+---+---+---+---+---+---+---+---+---------+\n",
      "|      1|Sacramento Kings|Corliss Williamson|37:20|  7| 11|  0|  0|  0|  0|  1|  3|  4|  4|  1|  1|  4|  5| 14| -2|        1|\n",
      "|      1|Sacramento Kings|    Mitch Richmond|32:00|  6| 12|  1|  4|  1|  1|  0|  5|  5|  3|  1|  2|  3|  1| 14|-12|        1|\n",
      "|      1|Sacramento Kings|    Olden Polynice|31:34|  0|  4|  0|  0|  1|  4|  2|  5|  7|  3|  1|  0|  4|  3|  1|-12|        1|\n",
      "|      1|Sacramento Kings|Mahmoud Abdul-Rauf|29:27|  7| 13|  1|  2|  2|  2|  0|  2|  2|  5|  1|  1|  2|  2| 17| -7|        1|\n",
      "|      1|Sacramento Kings|       Brian Grant|25:13|  3| 11|  0|  0|  2|  2|  1|  5|  6|  0|  0|  2|  1|  2|  8| -7|        1|\n",
      "+-------+----------------+------------------+-----+---+---+---+---+---+---+---+---+---+---+---+---+---+---+---+---+---------+\n",
      "only showing top 5 rows\n",
      "\n"
     ]
    }
   ],
   "source": [
    "df_boxscore.show(5)"
   ]
  },
  {
   "cell_type": "code",
   "execution_count": 121,
   "id": "ada3d09a-c412-44a8-877b-3d94d70d6d18",
   "metadata": {
    "tags": []
   },
   "outputs": [
    {
     "name": "stdout",
     "output_type": "stream",
     "text": [
      "+---------------+--------------------+----------+--------------------+----------+----------+-----+-------+----------+---------+-------+\n",
      "|seasonStartYear|            awayTeam|pointsAway|            homeTeam|pointsHome|attendance|notes|startET|  datetime|isRegular|game_id|\n",
      "+---------------+--------------------+----------+--------------------+----------+----------+-----+-------+----------+---------+-------+\n",
      "|           1996|    Sacramento Kings|        85|     Houston Rockets|        96|   16285.0| NULL|   NULL|1996-11-01|        1|      1|\n",
      "|           1996|Los Angeles Clippers|        97|Golden State Warr...|        85|   15593.0| NULL|   NULL|1996-11-01|        1|      2|\n",
      "|           1996|Portland Trail Bl...|       114| Vancouver Grizzlies|        85|   19193.0| NULL|   NULL|1996-11-01|        1|      3|\n",
      "|           1996| Seattle SuperSonics|        91|           Utah Jazz|        99|   19911.0| NULL|   NULL|1996-11-01|        1|      4|\n",
      "|           1996|     New York Knicks|       107|     Toronto Raptors|        99|   28457.0| NULL|   NULL|1996-11-01|        1|      5|\n",
      "+---------------+--------------------+----------+--------------------+----------+----------+-----+-------+----------+---------+-------+\n",
      "only showing top 5 rows\n",
      "\n"
     ]
    }
   ],
   "source": [
    "df_games.show(5)"
   ]
  },
  {
   "cell_type": "code",
   "execution_count": 122,
   "id": "d9920481-844b-4aa6-bf23-0359f87d4522",
   "metadata": {
    "tags": []
   },
   "outputs": [
    {
     "name": "stdout",
     "output_type": "stream",
     "text": [
      "+----------------+---------------+-----------+------------------+\n",
      "|      playerName|seasonStartYear|     salary|inflationAdjSalary|\n",
      "+----------------+---------------+-----------+------------------+\n",
      "|  Michael Jordan|           1996|$30,140,000|       $52,258,566|\n",
      "|    Horace Grant|           1996|$14,857,000|       $25,759,971|\n",
      "|   Reggie Miller|           1996|$11,250,000|       $19,505,934|\n",
      "|Shaquille O'Neal|           1996|$10,714,000|       $18,576,585|\n",
      "|     Gary Payton|           1996|$10,212,000|       $17,706,187|\n",
      "+----------------+---------------+-----------+------------------+\n",
      "only showing top 5 rows\n",
      "\n"
     ]
    }
   ],
   "source": [
    "df_salaries.show(5)"
   ]
  },
  {
   "cell_type": "markdown",
   "id": "f291f525-9ce1-4cf3-a0cd-f5b70feba6d5",
   "metadata": {},
   "source": [
    "# removing columns and dates"
   ]
  },
  {
   "cell_type": "code",
   "execution_count": 123,
   "id": "dd82f963-efcc-41b5-84d9-4cccd37dacd0",
   "metadata": {},
   "outputs": [
    {
     "name": "stdout",
     "output_type": "stream",
     "text": [
      "+---------------+---------+-------+\n",
      "|seasonStartYear|isRegular|game_id|\n",
      "+---------------+---------+-------+\n",
      "|           1996|        1|      1|\n",
      "|           1996|        1|      2|\n",
      "|           1996|        1|      3|\n",
      "|           1996|        1|      4|\n",
      "|           1996|        1|      5|\n",
      "+---------------+---------+-------+\n",
      "only showing top 5 rows\n",
      "\n"
     ]
    }
   ],
   "source": [
    "#removing notes and startET from df_games\n",
    "columns_to_drop = [\"awayTeam\", \"pointsAway\", \"homeTeam\", \"pointsHome\", \"attendance\", \"notes\", \"startET\", \"datetime\"]\n",
    "\n",
    "# Drop the specified columns\n",
    "df_games = df_games.drop(*columns_to_drop)\n",
    "\n",
    "# Show the first 5 rows of the updated df_games DataFrame\n",
    "df_games.show(5)"
   ]
  },
  {
   "cell_type": "code",
   "execution_count": 124,
   "id": "afc8bf60-4f2e-4c9b-9517-f431c57b6110",
   "metadata": {
    "tags": []
   },
   "outputs": [],
   "source": [
    "#here the plot of the years (the flat line)"
   ]
  },
  {
   "cell_type": "code",
   "execution_count": 125,
   "id": "a3a0194c-c324-4ab4-9032-3eb2bf7c4a2d",
   "metadata": {
    "tags": []
   },
   "outputs": [
    {
     "name": "stdout",
     "output_type": "stream",
     "text": [
      "+---------------+---------+-------+\n",
      "|seasonStartYear|isRegular|game_id|\n",
      "+---------------+---------+-------+\n",
      "|           2000|        1|   4577|\n",
      "|           2000|        1|   4578|\n",
      "|           2000|        1|   4579|\n",
      "|           2000|        1|   4580|\n",
      "|           2000|        1|   4581|\n",
      "+---------------+---------+-------+\n",
      "only showing top 5 rows\n",
      "\n"
     ]
    }
   ],
   "source": [
    "df_games = df_games.filter((col(\"seasonStartYear\") >= 2000) & (col(\"seasonStartYear\") <= 2010))\n",
    "df_games.show(5)"
   ]
  },
  {
   "cell_type": "code",
   "execution_count": 126,
   "id": "621709d8-f074-4641-aa35-c9ba05e10e24",
   "metadata": {
    "tags": []
   },
   "outputs": [
    {
     "name": "stdout",
     "output_type": "stream",
     "text": [
      "+----------------+---------------+-----------+------------------+\n",
      "|      playerName|seasonStartYear|     salary|inflationAdjSalary|\n",
      "+----------------+---------------+-----------+------------------+\n",
      "|   Kevin Garnett|           2000|$19,610,000|       $30,904,632|\n",
      "|Shaquille O'Neal|           2000|$19,285,715|       $30,393,570|\n",
      "| Alonzo Mourning|           2000|$16,880,000|       $26,602,253|\n",
      "|    Juwan Howard|           2000|$16,875,000|       $26,594,373|\n",
      "| Hakeem Olajuwon|           2000|$16,700,000|       $26,318,580|\n",
      "+----------------+---------------+-----------+------------------+\n",
      "only showing top 5 rows\n",
      "\n"
     ]
    }
   ],
   "source": [
    "df_salaries = df_salaries.filter((col(\"seasonStartYear\") >= 2000) & (col(\"seasonStartYear\") <= 2010))\n",
    "df_salaries.show(5)"
   ]
  },
  {
   "cell_type": "code",
   "execution_count": 127,
   "id": "915cccc6-4b1e-4684-a44d-e79d31b1445a",
   "metadata": {
    "tags": []
   },
   "outputs": [
    {
     "name": "stdout",
     "output_type": "stream",
     "text": [
      "+-------+-------------------+-------------+-----+---+---+---+---+---+---+---+---+---+---+---+---+---+---+---+---+---------+\n",
      "|game_id|           teamName|   playerName|   MP| FG|FGA| 3P|3PA| FT|FTA|ORB|DRB|TRB|AST|STL|BLK|TOV| PF|PTS|+/-|isStarter|\n",
      "+-------+-------------------+-------------+-----+---+---+---+---+---+---+---+---+---+---+---+---+---+---+---+---+---------+\n",
      "|   4577|Seattle SuperSonics|  Gary Payton|48:00| 10| 26|  2|  9|  5|  7|  4| 10| 14| 10|  1|  0|  6|  4| 27| -6|        1|\n",
      "|   4577|Seattle SuperSonics|    Vin Baker|37:28|  7| 16|  0|  0|  5|  6|  2|  5|  7|  1|  1|  4|  3|  3| 19|  0|        1|\n",
      "|   4577|Seattle SuperSonics|Patrick Ewing|36:36|  1|  6|  0|  0|  0|  0|  2| 10| 12|  2|  0|  2|  3|  4|  2|-15|        1|\n",
      "|   4577|Seattle SuperSonics|Rashard Lewis|34:32|  3| 10|  2|  5|  3|  4|  1|  4|  5|  1|  1|  0|  3|  5| 11| -4|        1|\n",
      "|   4577|Seattle SuperSonics|Desmond Mason|17:01|  3|  9|  0|  3|  1|  2|  3|  2|  5|  2|  0|  1|  1|  5|  7|-15|        1|\n",
      "+-------+-------------------+-------------+-----+---+---+---+---+---+---+---+---+---+---+---+---+---+---+---+---+---------+\n",
      "only showing top 5 rows\n",
      "\n"
     ]
    }
   ],
   "source": [
    "#game_id that are played between 2000 and 2010\n",
    "selected_game_ids = df_games.select(\"game_id\").distinct()\n",
    "\n",
    "#filter salaries based on game_id\n",
    "\n",
    "df_boxscore = df_boxscore.join(selected_game_ids, \"game_id\")\n",
    "\n",
    "df_boxscore.show(5)"
   ]
  },
  {
   "cell_type": "code",
   "execution_count": 128,
   "id": "22cbb9cc-9f46-42bb-8a58-8a292c7fdaba",
   "metadata": {
    "tags": []
   },
   "outputs": [
    {
     "name": "stderr",
     "output_type": "stream",
     "text": [
      "[Stage 485:>                                                        (0 + 1) / 1]\r"
     ]
    },
    {
     "name": "stdout",
     "output_type": "stream",
     "text": [
      "341806 14264 5098\n"
     ]
    },
    {
     "name": "stderr",
     "output_type": "stream",
     "text": [
      "                                                                                \r"
     ]
    }
   ],
   "source": [
    "print(df_boxscore.count(), df_games.count(), df_salaries.count())"
   ]
  },
  {
   "cell_type": "markdown",
   "id": "a61db16a-fe8c-4b07-b8cf-3694d23a5b90",
   "metadata": {},
   "source": [
    "# missing values"
   ]
  },
  {
   "cell_type": "code",
   "execution_count": 129,
   "id": "086ef41d-2f89-4d2e-984a-1ac4a112afee",
   "metadata": {
    "tags": []
   },
   "outputs": [
    {
     "name": "stderr",
     "output_type": "stream",
     "text": [
      "[Stage 497:>                                                        (0 + 1) / 1]\r"
     ]
    },
    {
     "name": "stdout",
     "output_type": "stream",
     "text": [
      "+-------+--------+----------+---+---+---+---+---+---+---+---+---+---+---+---+---+---+---+---+---+---------+\n",
      "|game_id|teamName|playerName| MP| FG|FGA| 3P|3PA| FT|FTA|ORB|DRB|TRB|AST|STL|BLK|TOV| PF|PTS|+/-|isStarter|\n",
      "+-------+--------+----------+---+---+---+---+---+---+---+---+---+---+---+---+---+---+---+---+---+---------+\n",
      "|      0|       0|         0|  0|  0|  0|  0|  0|  0|  0|  0|  0|  0|  0|  0|  0|  0|  0|  0| 19|        0|\n",
      "+-------+--------+----------+---+---+---+---+---+---+---+---+---+---+---+---+---+---+---+---+---+---------+\n",
      "\n"
     ]
    },
    {
     "name": "stderr",
     "output_type": "stream",
     "text": [
      "                                                                                \r"
     ]
    }
   ],
   "source": [
    "from pyspark.sql.functions import col,isnan, when, count\n",
    "df_boxscore.select([count(when(isnan(c) | col(c).isNull(), c)).alias(c) for c in df_boxscore.columns]\n",
    "   ).show()"
   ]
  },
  {
   "cell_type": "code",
   "execution_count": 130,
   "id": "19b5ae86-6ecb-4db8-8dd2-f6575a891fae",
   "metadata": {
    "tags": []
   },
   "outputs": [
    {
     "name": "stderr",
     "output_type": "stream",
     "text": [
      "[Stage 503:>                                                        (0 + 1) / 1]\r"
     ]
    },
    {
     "name": "stdout",
     "output_type": "stream",
     "text": [
      "+-------+--------------------+--------------------+----+---+---+---+---+---+---+---+---+---+---+---+---+---+---+---+----+---------+\n",
      "|game_id|            teamName|          playerName|  MP| FG|FGA| 3P|3PA| FT|FTA|ORB|DRB|TRB|AST|STL|BLK|TOV| PF|PTS| +/-|isStarter|\n",
      "+-------+--------------------+--------------------+----+---+---+---+---+---+---+---+---+---+---+---+---+---+---+---+----+---------+\n",
      "|   5026|       Orlando Magic|            Don Reid|1:00|  0|  0|  0|  0|  0|  0|  0|  0|  0|  0|  0|  0|  0|  0|  0|NULL|        0|\n",
      "|   6348|  Los Angeles Lakers|Stanislav Medvedenko|1:00|  0|  0|  0|  0|  0|  2|  0|  0|  0|  0|  0|  0|  0|  0|  0|NULL|        0|\n",
      "|   6844|     Detroit Pistons|    Victor Alexander|1:00|  0|  0|  0|  0|  0|  0|  0|  0|  0|  0|  0|  0|  0|  0|  0|NULL|        0|\n",
      "|   7125|Los Angeles Clippers|         Wang Zhizhi|1:06|  0|  0|  0|  0|  0|  0|  0|  0|  0|  0|  0|  0|  0|  0|  0|NULL|        0|\n",
      "|   7153| Cleveland Cavaliers|     Michael Stewart|2:00|  0|  0|  0|  0|  0|  0|  0|  0|  0|  0|  0|  1|  0|  0|  0|NULL|        0|\n",
      "|   7173|  Los Angeles Lakers|        Tracy Murray|0:00|  0|  0|  0|  0|  0|  0|  0|  0|  0|  0|  0|  0|  0|  0|  0|NULL|        0|\n",
      "|   9488|  Philadelphia 76ers|     Zendon Hamilton|0:00|  0|  0|  0|  0|  0|  0|  0|  0|  0|  0|  0|  0|  0|  0|  0|NULL|        0|\n",
      "|   9631|     Detroit Pistons|          Darvin Ham|0:00|  0|  0|  0|  0|  0|  0|  0|  0|  0|  0|  0|  0|  0|  0|  0|NULL|        0|\n",
      "|  10180|       Orlando Magic|         Mario Kasun|1:00|  0|  0|  0|  0|  0|  0|  0|  0|  0|  0|  0|  0|  0|  0|  0|NULL|        0|\n",
      "|  10271|     Houston Rockets|          Ryan Bowen|1:00|  0|  0|  0|  0|  0|  0|  0|  0|  0|  0|  0|  0|  0|  0|  0|NULL|        0|\n",
      "|  10920|     Detroit Pistons|          Darvin Ham|0:00|  0|  0|  0|  0|  0|  0|  0|  0|  0|  0|  0|  0|  0|  0|  0|NULL|        0|\n",
      "|  12085|     New York Knicks|        Jerome James|0:00|  0|  0|  0|  0|  0|  0|  0|  0|  0|  0|  0|  0|  0|  0|  0|NULL|        0|\n",
      "|  12207|Los Angeles Clippers|     James Singleton|0:00|  0|  0|  0|  0|  0|  0|  0|  0|  0|  0|  0|  0|  0|  0|  0|NULL|        0|\n",
      "|  13966|      Denver Nuggets|         Bobby Jones|0:00|  0|  0|  0|  0|  0|  0|  0|  0|  0|  0|  0|  0|  0|  0|  0|NULL|        0|\n",
      "|  15471|Oklahoma City Thu...|       Chucky Atkins|0:50|  0|  0|  0|  0|  0|  0|  0|  0|  0|  0|  0|  0|  0|  0|  0|NULL|        0|\n",
      "|  16193|      Denver Nuggets|     Renaldo Balkman|0:00|  0|  0|  0|  0|  0|  0|  0|  0|  0|  0|  0|  0|  0|  0|  0|NULL|        0|\n",
      "|  16280|     Houston Rockets|          Brian Cook|0:00|  0|  0|  0|  0|  0|  0|  0|  0|  0|  0|  0|  0|  0|  0|  0|NULL|        0|\n",
      "|  17018|      Denver Nuggets|         Joey Graham|0:00|  0|  0|  0|  0|  0|  0|  0|  0|  0|  0|  0|  0|  0|  0|  0|NULL|        0|\n",
      "|  18075|    Sacramento Kings|     Darnell Jackson|0:01|  0|  0|  0|  0|  0|  0|  0|  0|  0|  0|  0|  0|  0|  0|  0|NULL|        0|\n",
      "+-------+--------------------+--------------------+----+---+---+---+---+---+---+---+---+---+---+---+---+---+---+---+----+---------+\n",
      "\n"
     ]
    },
    {
     "name": "stderr",
     "output_type": "stream",
     "text": [
      "                                                                                \r"
     ]
    }
   ],
   "source": [
    "#visualize the rows with +/- equal to NULL\n",
    "rows_with_null = df_boxscore.filter(\n",
    "    (col(\"+/-\").isNull()))\n",
    "\n",
    "rows_with_null.show()\n"
   ]
  },
  {
   "cell_type": "code",
   "execution_count": 131,
   "id": "4c65a07f-97b1-4a75-82dd-f6da84ad9133",
   "metadata": {
    "tags": []
   },
   "outputs": [
    {
     "name": "stdout",
     "output_type": "stream",
     "text": [
      "+-------+--------------------+------------------+-----+---+---+---+---+---+---+---+---+---+---+---+---+---+---+---+---+---------+\n",
      "|game_id|            teamName|        playerName|   MP| FG|FGA| 3P|3PA| FT|FTA|ORB|DRB|TRB|AST|STL|BLK|TOV| PF|PTS|+/-|isStarter|\n",
      "+-------+--------------------+------------------+-----+---+---+---+---+---+---+---+---+---+---+---+---+---+---+---+---+---------+\n",
      "|   4577| Seattle SuperSonics|         Vin Baker|37:28|  7| 16|  0|  0|  5|  6|  2|  5|  7|  1|  1|  4|  3|  3| 19|  0|        1|\n",
      "|   4577| Seattle SuperSonics|      Jelani McCoy| 4:37|  0|  0|  0|  0|  0|  0|  0|  1|  1|  1|  0|  0|  0|  0|  0|  0|        0|\n",
      "|   4577| Vancouver Grizzlies|       Damon Jones| 7:27|  1|  4|  1|  2|  0|  0|  1|  1|  2|  1|  0|  0|  0|  0|  3|  0|        0|\n",
      "|   4578|       Orlando Magic|      John Amaechi|25:32|  6| 10|  0|  0|  2|  4|  0|  3|  3|  1|  1|  1|  2|  4| 14|  0|        1|\n",
      "|   4579|     Milwaukee Bucks|      Rafer Alston| 0:20|  0|  0|  0|  0|  0|  0|  1|  0|  1|  0|  0|  0|  0|  0|  0|  0|        0|\n",
      "|   4581|     Toronto Raptors|        Dell Curry|15:56|  3|  8|  1|  4|  0|  0|  0|  2|  2|  1|  0|  1|  1|  2|  7|  0|        0|\n",
      "|   4581|     Toronto Raptors|      Kornél Dávid| 1:10|  1|  1|  0|  0|  0|  0|  0|  0|  0|  0|  0|  1|  0|  0|  2|  0|        0|\n",
      "|   4582|    Sacramento Kings|         Jon Barry|17:47|  2|  5|  0|  3|  2|  2|  0|  0|  0|  4|  0|  0|  2|  0|  6|  0|        0|\n",
      "|   4582|       Chicago Bulls| Metta World Peace|28:46|  2|  8|  0|  0|  2|  4|  0|  4|  4|  3|  0|  1|  4|  3|  6|  0|        1|\n",
      "|   4582|       Chicago Bulls|        Bryce Drew|13:02|  0|  1|  0|  0|  0|  0|  0|  0|  0|  3|  0|  0|  0|  2|  0|  0|        0|\n",
      "|   4583|     Houston Rockets|    Cuttino Mobley|32:21| 10| 22|  2|  5| 11| 11|  1|  4|  5|  1|  3|  2|  2|  1| 33|  0|        0|\n",
      "|   4585|Los Angeles Clippers|Michael Olowokandi|16:48|  0|  2|  0|  0|  0|  0|  1|  3|  4|  1|  0|  0|  6|  5|  0|  0|        1|\n",
      "|   4585|           Utah Jazz|     Greg Ostertag|16:18|  0|  1|  0|  0|  2|  4|  2|  4|  6|  1|  1|  0|  1|  4|  2|  0|        0|\n",
      "|   4586|        Phoenix Suns|      Corie Blount|24:18|  1|  1|  0|  0|  0|  0|  3|  5|  8|  2|  0|  0|  1|  3|  2|  0|        0|\n",
      "|   4586|Golden State Warr...| Vonteego Cummings|12:52|  1|  4|  0|  1|  0|  0|  0|  0|  0|  1|  1|  0|  0|  2|  2|  0|        0|\n",
      "|   4587|  Los Angeles Lakers|       Mark Madsen| 0:50|  0|  0|  0|  0|  0|  0|  0|  0|  0|  0|  0|  0|  0|  0|  0|  0|        0|\n",
      "|   4587|Portland Trail Bl...|        Dale Davis|30:20|  1|  4|  0|  0|  0|  0|  2|  4|  6|  1|  1|  0|  0|  5|  2|  0|        1|\n",
      "|   4587|Portland Trail Bl...|        Shawn Kemp|11:29|  2|  9|  0|  0|  0|  0|  0|  2|  2|  0|  1|  0|  1|  4|  4|  0|        0|\n",
      "|   4591|     Toronto Raptors|      Mark Jackson|41:55|  7| 13|  2|  6|  0|  0|  1|  5|  6| 12|  2|  0|  3|  4| 16|  0|        1|\n",
      "|   4592|  Washington Wizards|    Cherokee Parks|12:29|  1|  4|  0|  0|  0|  0|  0|  4|  4|  1|  0|  2|  2|  3|  2|  0|        0|\n",
      "+-------+--------------------+------------------+-----+---+---+---+---+---+---+---+---+---+---+---+---+---+---+---+---+---------+\n",
      "only showing top 20 rows\n",
      "\n"
     ]
    },
    {
     "name": "stderr",
     "output_type": "stream",
     "text": [
      "                                                                                \r"
     ]
    }
   ],
   "source": [
    "#visualize the rows with +/- equal to 0\n",
    "filtered_rows = df_boxscore.filter(col(\"+/-\") == 0)\n",
    "\n",
    "filtered_rows.show(20)\n"
   ]
  },
  {
   "cell_type": "code",
   "execution_count": 132,
   "id": "4fa291d5-997f-4653-9b03-46f94650273a",
   "metadata": {
    "tags": []
   },
   "outputs": [
    {
     "name": "stdout",
     "output_type": "stream",
     "text": [
      "+-------+-------------------+-----------------+-------------+-------------+-------------+-------------+-------------+-------------+-------------+-------------+-------------+-------------+-------------+-------------+-------------+-------------+-------------+-------------+-------------+---------+\n",
      "|game_id|           teamName|       playerName|           MP|           FG|          FGA|           3P|          3PA|           FT|          FTA|          ORB|          DRB|          TRB|          AST|          STL|          BLK|          TOV|           PF|          PTS|          +/-|isStarter|\n",
      "+-------+-------------------+-----------------+-------------+-------------+-------------+-------------+-------------+-------------+-------------+-------------+-------------+-------------+-------------+-------------+-------------+-------------+-------------+-------------+-------------+---------+\n",
      "|   4577|Seattle SuperSonics|      Gary Payton|        48:00|           10|           26|            2|            9|            5|            7|            4|           10|           14|           10|            1|            0|            6|            4|           27|           -6|        1|\n",
      "|   4577|Seattle SuperSonics|        Vin Baker|        37:28|            7|           16|            0|            0|            5|            6|            2|            5|            7|            1|            1|            4|            3|            3|           19|            0|        1|\n",
      "|   4577|Seattle SuperSonics|    Patrick Ewing|        36:36|            1|            6|            0|            0|            0|            0|            2|           10|           12|            2|            0|            2|            3|            4|            2|          -15|        1|\n",
      "|   4577|Seattle SuperSonics|    Rashard Lewis|        34:32|            3|           10|            2|            5|            3|            4|            1|            4|            5|            1|            1|            0|            3|            5|           11|           -4|        1|\n",
      "|   4577|Seattle SuperSonics|    Desmond Mason|        17:01|            3|            9|            0|            3|            1|            2|            3|            2|            5|            2|            0|            1|            1|            5|            7|          -15|        1|\n",
      "|   4577|Seattle SuperSonics|Shammond Williams|        31:18|            6|            8|            4|            6|            2|            3|            0|            4|            4|            3|            1|            0|            1|            2|           18|          +14|        0|\n",
      "|   4577|Seattle SuperSonics|  Ruben Patterson|        18:41|            2|            5|            0|            0|            0|            0|            1|            1|            2|            0|            1|            1|            2|            1|            4|           -2|        0|\n",
      "|   4577|Seattle SuperSonics| Rubén Wolkowyski|        11:47|            0|            4|            0|            0|            0|            0|            1|            1|            2|            0|            0|            1|            0|            1|            0|           -2|        0|\n",
      "|   4577|Seattle SuperSonics|     Jelani McCoy|         4:37|            0|            0|            0|            0|            0|            0|            0|            1|            1|            1|            0|            0|            0|            0|            0|            0|        0|\n",
      "|   4577|Seattle SuperSonics|      Brent Barry|Did Not Dress|Did Not Dress|Did Not Dress|Did Not Dress|Did Not Dress|Did Not Dress|Did Not Dress|Did Not Dress|Did Not Dress|Did Not Dress|Did Not Dress|Did Not Dress|Did Not Dress|Did Not Dress|Did Not Dress|Did Not Dress|Did Not Dress|        0|\n",
      "+-------+-------------------+-----------------+-------------+-------------+-------------+-------------+-------------+-------------+-------------+-------------+-------------+-------------+-------------+-------------+-------------+-------------+-------------+-------------+-------------+---------+\n",
      "only showing top 10 rows\n",
      "\n"
     ]
    }
   ],
   "source": [
    "#change NULL with 0\n",
    "df_boxscore = df_boxscore.fillna(0, subset=[\"+/-\"])\n",
    "df_boxscore.show(10)"
   ]
  },
  {
   "cell_type": "code",
   "execution_count": 133,
   "id": "fe9b8e3e-13e8-4df0-93f1-bb1a2d4e6e01",
   "metadata": {
    "tags": []
   },
   "outputs": [
    {
     "name": "stdout",
     "output_type": "stream",
     "text": [
      "+----------+---------------+------+------------------+\n",
      "|playerName|seasonStartYear|salary|inflationAdjSalary|\n",
      "+----------+---------------+------+------------------+\n",
      "|         0|              0|     0|                 0|\n",
      "+----------+---------------+------+------------------+\n",
      "\n"
     ]
    }
   ],
   "source": [
    "from pyspark.sql.functions import col,isnan, when, count\n",
    "df_salaries.select([count(when(isnan(c) | col(c).isNull(), c)).alias(c) for c in df_salaries.columns]\n",
    "   ).show()"
   ]
  },
  {
   "cell_type": "code",
   "execution_count": 134,
   "id": "8f226917-4529-4be6-b6b1-c44ad83e0705",
   "metadata": {
    "tags": []
   },
   "outputs": [
    {
     "name": "stdout",
     "output_type": "stream",
     "text": [
      "+---------------+---------+-------+\n",
      "|seasonStartYear|isRegular|game_id|\n",
      "+---------------+---------+-------+\n",
      "|              0|        0|      0|\n",
      "+---------------+---------+-------+\n",
      "\n"
     ]
    }
   ],
   "source": [
    "# Create a list comprehension to count null or NaN values for each column\n",
    "counts_expr = [count(when(col(c).isNull(), c)).alias(c) if c != 'datetime' else count(when(col(c).isNull(), c)).alias(c+'_null_count') for c in df_games.columns]\n",
    "\n",
    "# Apply the counts expression to the DataFrame\n",
    "df_games.select(counts_expr).show()"
   ]
  },
  {
   "cell_type": "code",
   "execution_count": 135,
   "id": "b72a6fda-d5f7-48ab-bca5-1248acd19a01",
   "metadata": {},
   "outputs": [
    {
     "name": "stderr",
     "output_type": "stream",
     "text": [
      "[Stage 521:>                                                        (0 + 1) / 1]\r"
     ]
    },
    {
     "name": "stdout",
     "output_type": "stream",
     "text": [
      "341806 14264 5098\n"
     ]
    },
    {
     "name": "stderr",
     "output_type": "stream",
     "text": [
      "                                                                                \r"
     ]
    }
   ],
   "source": [
    "print(df_boxscore.count(), df_games.count(), df_salaries.count())"
   ]
  },
  {
   "cell_type": "code",
   "execution_count": 136,
   "id": "ef6c1ea6-2a47-409f-b63a-bac8565f5a4b",
   "metadata": {
    "tags": []
   },
   "outputs": [
    {
     "name": "stdout",
     "output_type": "stream",
     "text": [
      "+-------+-------------------+-------------------+-------------+-------------+-------------+-------------+-------------+-------------+-------------+-------------+-------------+-------------+-------------+-------------+-------------+-------------+-------------+-------------+-------------+---------+---------------+---------+\n",
      "|game_id|           teamName|         playerName|           MP|           FG|          FGA|           3P|          3PA|           FT|          FTA|          ORB|          DRB|          TRB|          AST|          STL|          BLK|          TOV|           PF|          PTS|          +/-|isStarter|seasonStartYear|isRegular|\n",
      "+-------+-------------------+-------------------+-------------+-------------+-------------+-------------+-------------+-------------+-------------+-------------+-------------+-------------+-------------+-------------+-------------+-------------+-------------+-------------+-------------+---------+---------------+---------+\n",
      "|   4577|Seattle SuperSonics|        Gary Payton|        48:00|           10|           26|            2|            9|            5|            7|            4|           10|           14|           10|            1|            0|            6|            4|           27|           -6|        1|           2000|        1|\n",
      "|   4577|Seattle SuperSonics|          Vin Baker|        37:28|            7|           16|            0|            0|            5|            6|            2|            5|            7|            1|            1|            4|            3|            3|           19|            0|        1|           2000|        1|\n",
      "|   4577|Seattle SuperSonics|      Patrick Ewing|        36:36|            1|            6|            0|            0|            0|            0|            2|           10|           12|            2|            0|            2|            3|            4|            2|          -15|        1|           2000|        1|\n",
      "|   4577|Seattle SuperSonics|      Rashard Lewis|        34:32|            3|           10|            2|            5|            3|            4|            1|            4|            5|            1|            1|            0|            3|            5|           11|           -4|        1|           2000|        1|\n",
      "|   4577|Seattle SuperSonics|      Desmond Mason|        17:01|            3|            9|            0|            3|            1|            2|            3|            2|            5|            2|            0|            1|            1|            5|            7|          -15|        1|           2000|        1|\n",
      "|   4577|Seattle SuperSonics|  Shammond Williams|        31:18|            6|            8|            4|            6|            2|            3|            0|            4|            4|            3|            1|            0|            1|            2|           18|          +14|        0|           2000|        1|\n",
      "|   4577|Seattle SuperSonics|    Ruben Patterson|        18:41|            2|            5|            0|            0|            0|            0|            1|            1|            2|            0|            1|            1|            2|            1|            4|           -2|        0|           2000|        1|\n",
      "|   4577|Seattle SuperSonics|   Rubén Wolkowyski|        11:47|            0|            4|            0|            0|            0|            0|            1|            1|            2|            0|            0|            1|            0|            1|            0|           -2|        0|           2000|        1|\n",
      "|   4577|Seattle SuperSonics|       Jelani McCoy|         4:37|            0|            0|            0|            0|            0|            0|            0|            1|            1|            1|            0|            0|            0|            0|            0|            0|        0|           2000|        1|\n",
      "|   4577|Seattle SuperSonics|        Brent Barry|Did Not Dress|Did Not Dress|Did Not Dress|Did Not Dress|Did Not Dress|Did Not Dress|Did Not Dress|Did Not Dress|Did Not Dress|Did Not Dress|Did Not Dress|Did Not Dress|Did Not Dress|Did Not Dress|Did Not Dress|Did Not Dress|Did Not Dress|        0|           2000|        1|\n",
      "|   4577|Seattle SuperSonics|      Emanual Davis| Did Not Play| Did Not Play| Did Not Play| Did Not Play| Did Not Play| Did Not Play| Did Not Play| Did Not Play| Did Not Play| Did Not Play| Did Not Play| Did Not Play| Did Not Play| Did Not Play| Did Not Play| Did Not Play| Did Not Play|        0|           2000|        1|\n",
      "|   4577|Seattle SuperSonics|     Pervis Ellison| Did Not Play| Did Not Play| Did Not Play| Did Not Play| Did Not Play| Did Not Play| Did Not Play| Did Not Play| Did Not Play| Did Not Play| Did Not Play| Did Not Play| Did Not Play| Did Not Play| Did Not Play| Did Not Play| Did Not Play|        0|           2000|        1|\n",
      "|   4577|Vancouver Grizzlies|Shareef Abdur-Rahim|        42:06|           12|           16|            0|            1|            3|            6|            1|            6|            7|            7|            3|            1|            6|            3|           27|           +3|        1|           2000|        1|\n",
      "|   4577|Vancouver Grizzlies|         Mike Bibby|        40:33|            7|           17|            0|            2|            1|            3|            0|           10|           10|            9|            3|            0|            0|            2|           15|           +6|        1|           2000|        1|\n",
      "|   4577|Vancouver Grizzlies|  Michael Dickerson|        38:50|            9|           26|            2|            8|            5|            9|            2|            3|            5|            3|            3|            2|            2|            5|           25|           +8|        1|           2000|        1|\n",
      "|   4577|Vancouver Grizzlies|      Bryant Reeves|        32:44|            1|            4|            0|            0|            2|            6|            1|           11|           12|            0|            1|            1|            1|            2|            4|           -2|        1|           2000|        1|\n",
      "|   4577|Vancouver Grizzlies| Othella Harrington|        30:06|            2|            9|            0|            0|            0|            0|            4|            2|            6|            4|            0|            1|            1|            2|            4|           +2|        1|           2000|        1|\n",
      "|   4577|Vancouver Grizzlies|         Grant Long|        15:54|            2|            5|            0|            0|            1|            2|            4|            1|            5|            1|            0|            0|            0|            3|            5|           +5|        0|           2000|        1|\n",
      "|   4577|Vancouver Grizzlies|      Kevin Edwards|        12:31|            1|            3|            0|            0|            0|            0|            0|            0|            0|            0|            1|            0|            1|            2|            2|           -4|        0|           2000|        1|\n",
      "|   4577|Vancouver Grizzlies|       Isaac Austin|        10:55|            4|            5|            1|            1|            0|            0|            0|            3|            3|            3|            1|            1|            0|            2|            9|           +5|        0|           2000|        1|\n",
      "+-------+-------------------+-------------------+-------------+-------------+-------------+-------------+-------------+-------------+-------------+-------------+-------------+-------------+-------------+-------------+-------------+-------------+-------------+-------------+-------------+---------+---------------+---------+\n",
      "only showing top 20 rows\n",
      "\n"
     ]
    }
   ],
   "source": [
    "#join boxscore and games (for the insertion of the data and the isRegular)\n",
    "df_boxscore = df_boxscore.join(df_games, \"game_id\")\n",
    "df_boxscore.show(20)"
   ]
  },
  {
   "cell_type": "code",
   "execution_count": 137,
   "id": "50215456-3941-47c6-8686-8b30f0c45295",
   "metadata": {
    "tags": []
   },
   "outputs": [
    {
     "name": "stderr",
     "output_type": "stream",
     "text": [
      "[Stage 539:>                                                        (0 + 1) / 1]\r"
     ]
    },
    {
     "name": "stdout",
     "output_type": "stream",
     "text": [
      "341806 14264 5098\n"
     ]
    },
    {
     "name": "stderr",
     "output_type": "stream",
     "text": [
      "                                                                                \r"
     ]
    }
   ],
   "source": [
    "print(df_boxscore.count(), df_games.count(), df_salaries.count())"
   ]
  },
  {
   "cell_type": "markdown",
   "id": "25fe978a-cc5f-4d9a-bf69-4d8a8dd4acba",
   "metadata": {},
   "source": [
    "# managing data types"
   ]
  },
  {
   "cell_type": "code",
   "execution_count": 138,
   "id": "d8a4b179-c0d9-4bc5-8869-7f6d53069e9e",
   "metadata": {
    "tags": []
   },
   "outputs": [
    {
     "name": "stdout",
     "output_type": "stream",
     "text": [
      "root\n",
      " |-- game_id: integer (nullable = true)\n",
      " |-- teamName: string (nullable = true)\n",
      " |-- playerName: string (nullable = true)\n",
      " |-- MP: string (nullable = true)\n",
      " |-- FG: string (nullable = true)\n",
      " |-- FGA: string (nullable = true)\n",
      " |-- 3P: string (nullable = true)\n",
      " |-- 3PA: string (nullable = true)\n",
      " |-- FT: string (nullable = true)\n",
      " |-- FTA: string (nullable = true)\n",
      " |-- ORB: string (nullable = true)\n",
      " |-- DRB: string (nullable = true)\n",
      " |-- TRB: string (nullable = true)\n",
      " |-- AST: string (nullable = true)\n",
      " |-- STL: string (nullable = true)\n",
      " |-- BLK: string (nullable = true)\n",
      " |-- TOV: string (nullable = true)\n",
      " |-- PF: string (nullable = true)\n",
      " |-- PTS: string (nullable = true)\n",
      " |-- +/-: string (nullable = true)\n",
      " |-- isStarter: integer (nullable = true)\n",
      " |-- seasonStartYear: integer (nullable = true)\n",
      " |-- isRegular: integer (nullable = true)\n",
      "\n"
     ]
    }
   ],
   "source": [
    "df_boxscore.printSchema()"
   ]
  },
  {
   "cell_type": "code",
   "execution_count": 139,
   "id": "d9e3bd9b-2f0e-494e-90b1-a4cd1336dfb6",
   "metadata": {
    "tags": []
   },
   "outputs": [
    {
     "name": "stderr",
     "output_type": "stream",
     "text": [
      "[Stage 552:>                                                        (0 + 1) / 1]\r"
     ]
    },
    {
     "name": "stdout",
     "output_type": "stream",
     "text": [
      "Number of rows with non-convertible string values: 53767\n"
     ]
    },
    {
     "name": "stderr",
     "output_type": "stream",
     "text": [
      "                                                                                \r"
     ]
    }
   ],
   "source": [
    "# Assuming df_boxscore is your DataFrame\n",
    "columns_to_check = [\"FG\", \"FGA\", \"3P\", \"3PA\", \"FT\", \"FTA\", \"ORB\", \"DRB\", \"TRB\", \"AST\", \"STL\", \"BLK\", \"TOV\", \"PF\", \"PTS\", \"+/-\"]\n",
    "\n",
    "# Convert the specified columns to integers, and filter out the rows where the conversion fails\n",
    "converted_df = df_boxscore.select(\n",
    "    \"*\",\n",
    "    *[col(c).cast(\"int\").isNotNull().alias(c+\"_is_int\") for c in columns_to_check]\n",
    ")\n",
    "\n",
    "# Show the rows where conversion to integer failed\n",
    "failed_conversion_rows = converted_df.filter(~col(\"FG_is_int\") | ~col(\"FGA_is_int\") |\n",
    "                                              ~col(\"3P_is_int\") | ~col(\"3PA_is_int\") | ~col(\"FT_is_int\") |\n",
    "                                              ~col(\"FTA_is_int\") | ~col(\"ORB_is_int\") | ~col(\"DRB_is_int\") |\n",
    "                                              ~col(\"TRB_is_int\") | ~col(\"AST_is_int\") | ~col(\"STL_is_int\") |\n",
    "                                              ~col(\"BLK_is_int\") | ~col(\"TOV_is_int\") | ~col(\"PF_is_int\") |\n",
    "                                              ~col(\"PTS_is_int\") | ~col(\"+/-_is_int\"))\n",
    "\n",
    "# Count the rows where conversion to integer failed\n",
    "failed_conversion_count = failed_conversion_rows.count()\n",
    "\n",
    "# Display the count and the first few rows where the conversion to integer failed\n",
    "print(\"Number of rows with non-convertible string values:\", failed_conversion_count)\n",
    "\n"
   ]
  },
  {
   "cell_type": "code",
   "execution_count": 140,
   "id": "67e1c478-fcf7-44de-8217-680d0f24a170",
   "metadata": {
    "tags": []
   },
   "outputs": [
    {
     "name": "stdout",
     "output_type": "stream",
     "text": [
      "+-------+-------------------+-------------------+-----+---+---+---+---+---+---+---+---+---+---+---+---+---+---+---+---+---------+---------------+---------+\n",
      "|game_id|           teamName|         playerName|   MP| FG|FGA| 3P|3PA| FT|FTA|ORB|DRB|TRB|AST|STL|BLK|TOV| PF|PTS|+/-|isStarter|seasonStartYear|isRegular|\n",
      "+-------+-------------------+-------------------+-----+---+---+---+---+---+---+---+---+---+---+---+---+---+---+---+---+---------+---------------+---------+\n",
      "|   4577|Seattle SuperSonics|        Gary Payton|48:00| 10| 26|  2|  9|  5|  7|  4| 10| 14| 10|  1|  0|  6|  4| 27| -6|        1|           2000|        1|\n",
      "|   4577|Seattle SuperSonics|          Vin Baker|37:28|  7| 16|  0|  0|  5|  6|  2|  5|  7|  1|  1|  4|  3|  3| 19|  0|        1|           2000|        1|\n",
      "|   4577|Seattle SuperSonics|      Patrick Ewing|36:36|  1|  6|  0|  0|  0|  0|  2| 10| 12|  2|  0|  2|  3|  4|  2|-15|        1|           2000|        1|\n",
      "|   4577|Seattle SuperSonics|      Rashard Lewis|34:32|  3| 10|  2|  5|  3|  4|  1|  4|  5|  1|  1|  0|  3|  5| 11| -4|        1|           2000|        1|\n",
      "|   4577|Seattle SuperSonics|      Desmond Mason|17:01|  3|  9|  0|  3|  1|  2|  3|  2|  5|  2|  0|  1|  1|  5|  7|-15|        1|           2000|        1|\n",
      "|   4577|Seattle SuperSonics|  Shammond Williams|31:18|  6|  8|  4|  6|  2|  3|  0|  4|  4|  3|  1|  0|  1|  2| 18| 14|        0|           2000|        1|\n",
      "|   4577|Seattle SuperSonics|    Ruben Patterson|18:41|  2|  5|  0|  0|  0|  0|  1|  1|  2|  0|  1|  1|  2|  1|  4| -2|        0|           2000|        1|\n",
      "|   4577|Seattle SuperSonics|   Rubén Wolkowyski|11:47|  0|  4|  0|  0|  0|  0|  1|  1|  2|  0|  0|  1|  0|  1|  0| -2|        0|           2000|        1|\n",
      "|   4577|Seattle SuperSonics|       Jelani McCoy| 4:37|  0|  0|  0|  0|  0|  0|  0|  1|  1|  1|  0|  0|  0|  0|  0|  0|        0|           2000|        1|\n",
      "|   4577|Vancouver Grizzlies|Shareef Abdur-Rahim|42:06| 12| 16|  0|  1|  3|  6|  1|  6|  7|  7|  3|  1|  6|  3| 27|  3|        1|           2000|        1|\n",
      "|   4577|Vancouver Grizzlies|         Mike Bibby|40:33|  7| 17|  0|  2|  1|  3|  0| 10| 10|  9|  3|  0|  0|  2| 15|  6|        1|           2000|        1|\n",
      "|   4577|Vancouver Grizzlies|  Michael Dickerson|38:50|  9| 26|  2|  8|  5|  9|  2|  3|  5|  3|  3|  2|  2|  5| 25|  8|        1|           2000|        1|\n",
      "|   4577|Vancouver Grizzlies|      Bryant Reeves|32:44|  1|  4|  0|  0|  2|  6|  1| 11| 12|  0|  1|  1|  1|  2|  4| -2|        1|           2000|        1|\n",
      "|   4577|Vancouver Grizzlies| Othella Harrington|30:06|  2|  9|  0|  0|  0|  0|  4|  2|  6|  4|  0|  1|  1|  2|  4|  2|        1|           2000|        1|\n",
      "|   4577|Vancouver Grizzlies|         Grant Long|15:54|  2|  5|  0|  0|  1|  2|  4|  1|  5|  1|  0|  0|  0|  3|  5|  5|        0|           2000|        1|\n",
      "|   4577|Vancouver Grizzlies|      Kevin Edwards|12:31|  1|  3|  0|  0|  0|  0|  0|  0|  0|  0|  1|  0|  1|  2|  2| -4|        0|           2000|        1|\n",
      "|   4577|Vancouver Grizzlies|       Isaac Austin|10:55|  4|  5|  1|  1|  0|  0|  0|  3|  3|  3|  1|  1|  0|  2|  9|  5|        0|           2000|        1|\n",
      "|   4577|Vancouver Grizzlies|     Stromile Swift| 8:54|  0|  1|  0|  0|  0|  0|  1|  0|  1|  0|  0|  0|  0|  0|  0|  7|        0|           2000|        1|\n",
      "|   4577|Vancouver Grizzlies|        Damon Jones| 7:27|  1|  4|  1|  2|  0|  0|  1|  1|  2|  1|  0|  0|  0|  0|  3|  0|        0|           2000|        1|\n",
      "|   4578| Washington Wizards|     Mitch Richmond|38:34|  4| 13|  1|  2|  1|  2|  0|  3|  3|  4|  0|  0|  5|  3| 10|-12|        1|           2000|        1|\n",
      "+-------+-------------------+-------------------+-----+---+---+---+---+---+---+---+---+---+---+---+---+---+---+---+---+---------+---------------+---------+\n",
      "only showing top 20 rows\n",
      "\n"
     ]
    },
    {
     "name": "stderr",
     "output_type": "stream",
     "text": [
      "                                                                                \r"
     ]
    }
   ],
   "source": [
    "\n",
    "# Assuming df_boxscore is your DataFrame\n",
    "columns_to_convert = [\"FG\", \"FGA\", \"3P\", \"3PA\", \"FT\", \"FTA\", \"ORB\", \"DRB\", \"TRB\", \"AST\", \"STL\", \"BLK\", \"TOV\", \"PF\", \"PTS\", \"+/-\"]\n",
    "\n",
    "# Convert the specified columns to integers and drop rows where conversion is not possible\n",
    "for column in columns_to_convert:\n",
    "    df_boxscore = df_boxscore.withColumn(column, col(column).cast(\"int\"))\n",
    "\n",
    "# Drop rows where any of the specified columns is null after conversion\n",
    "df_boxscore = df_boxscore.dropna(subset=columns_to_convert)\n",
    "\n",
    "# Show the first few rows after conversion and removal of rows with non-convertible values\n",
    "df_boxscore.show(20)\n"
   ]
  },
  {
   "cell_type": "code",
   "execution_count": 141,
   "id": "faee9b3f-88b6-4e88-9569-c1275a7c9433",
   "metadata": {
    "tags": []
   },
   "outputs": [
    {
     "name": "stderr",
     "output_type": "stream",
     "text": [
      "[Stage 564:>                                                        (0 + 1) / 1]\r"
     ]
    },
    {
     "name": "stdout",
     "output_type": "stream",
     "text": [
      "+-------+-------------------+-------------------+-----+---+---+---+---+---+---+---+---+---+---+---+---+---+---+---+---+---------+---------------+---------+----------+\n",
      "|game_id|           teamName|         playerName|   MP| FG|FGA| 3P|3PA| FT|FTA|ORB|DRB|TRB|AST|STL|BLK|TOV| PF|PTS|+/-|isStarter|seasonStartYear|isRegular|MP_seconds|\n",
      "+-------+-------------------+-------------------+-----+---+---+---+---+---+---+---+---+---+---+---+---+---+---+---+---+---------+---------------+---------+----------+\n",
      "|   4577|Seattle SuperSonics|        Gary Payton|48:00| 10| 26|  2|  9|  5|  7|  4| 10| 14| 10|  1|  0|  6|  4| 27| -6|        1|           2000|        1|      2880|\n",
      "|   4577|Seattle SuperSonics|          Vin Baker|37:28|  7| 16|  0|  0|  5|  6|  2|  5|  7|  1|  1|  4|  3|  3| 19|  0|        1|           2000|        1|      2248|\n",
      "|   4577|Seattle SuperSonics|      Patrick Ewing|36:36|  1|  6|  0|  0|  0|  0|  2| 10| 12|  2|  0|  2|  3|  4|  2|-15|        1|           2000|        1|      2196|\n",
      "|   4577|Seattle SuperSonics|      Rashard Lewis|34:32|  3| 10|  2|  5|  3|  4|  1|  4|  5|  1|  1|  0|  3|  5| 11| -4|        1|           2000|        1|      2072|\n",
      "|   4577|Seattle SuperSonics|      Desmond Mason|17:01|  3|  9|  0|  3|  1|  2|  3|  2|  5|  2|  0|  1|  1|  5|  7|-15|        1|           2000|        1|      1021|\n",
      "|   4577|Seattle SuperSonics|  Shammond Williams|31:18|  6|  8|  4|  6|  2|  3|  0|  4|  4|  3|  1|  0|  1|  2| 18| 14|        0|           2000|        1|      1878|\n",
      "|   4577|Seattle SuperSonics|    Ruben Patterson|18:41|  2|  5|  0|  0|  0|  0|  1|  1|  2|  0|  1|  1|  2|  1|  4| -2|        0|           2000|        1|      1121|\n",
      "|   4577|Seattle SuperSonics|   Rubén Wolkowyski|11:47|  0|  4|  0|  0|  0|  0|  1|  1|  2|  0|  0|  1|  0|  1|  0| -2|        0|           2000|        1|       707|\n",
      "|   4577|Seattle SuperSonics|       Jelani McCoy| 4:37|  0|  0|  0|  0|  0|  0|  0|  1|  1|  1|  0|  0|  0|  0|  0|  0|        0|           2000|        1|       277|\n",
      "|   4577|Vancouver Grizzlies|Shareef Abdur-Rahim|42:06| 12| 16|  0|  1|  3|  6|  1|  6|  7|  7|  3|  1|  6|  3| 27|  3|        1|           2000|        1|      2526|\n",
      "|   4577|Vancouver Grizzlies|         Mike Bibby|40:33|  7| 17|  0|  2|  1|  3|  0| 10| 10|  9|  3|  0|  0|  2| 15|  6|        1|           2000|        1|      2433|\n",
      "|   4577|Vancouver Grizzlies|  Michael Dickerson|38:50|  9| 26|  2|  8|  5|  9|  2|  3|  5|  3|  3|  2|  2|  5| 25|  8|        1|           2000|        1|      2330|\n",
      "|   4577|Vancouver Grizzlies|      Bryant Reeves|32:44|  1|  4|  0|  0|  2|  6|  1| 11| 12|  0|  1|  1|  1|  2|  4| -2|        1|           2000|        1|      1964|\n",
      "|   4577|Vancouver Grizzlies| Othella Harrington|30:06|  2|  9|  0|  0|  0|  0|  4|  2|  6|  4|  0|  1|  1|  2|  4|  2|        1|           2000|        1|      1806|\n",
      "|   4577|Vancouver Grizzlies|         Grant Long|15:54|  2|  5|  0|  0|  1|  2|  4|  1|  5|  1|  0|  0|  0|  3|  5|  5|        0|           2000|        1|       954|\n",
      "|   4577|Vancouver Grizzlies|      Kevin Edwards|12:31|  1|  3|  0|  0|  0|  0|  0|  0|  0|  0|  1|  0|  1|  2|  2| -4|        0|           2000|        1|       751|\n",
      "|   4577|Vancouver Grizzlies|       Isaac Austin|10:55|  4|  5|  1|  1|  0|  0|  0|  3|  3|  3|  1|  1|  0|  2|  9|  5|        0|           2000|        1|       655|\n",
      "|   4577|Vancouver Grizzlies|     Stromile Swift| 8:54|  0|  1|  0|  0|  0|  0|  1|  0|  1|  0|  0|  0|  0|  0|  0|  7|        0|           2000|        1|       534|\n",
      "|   4577|Vancouver Grizzlies|        Damon Jones| 7:27|  1|  4|  1|  2|  0|  0|  1|  1|  2|  1|  0|  0|  0|  0|  3|  0|        0|           2000|        1|       447|\n",
      "|   4578| Washington Wizards|     Mitch Richmond|38:34|  4| 13|  1|  2|  1|  2|  0|  3|  3|  4|  0|  0|  5|  3| 10|-12|        1|           2000|        1|      2314|\n",
      "+-------+-------------------+-------------------+-----+---+---+---+---+---+---+---+---+---+---+---+---+---+---+---+---+---------+---------------+---------+----------+\n",
      "only showing top 20 rows\n",
      "\n"
     ]
    },
    {
     "name": "stderr",
     "output_type": "stream",
     "text": [
      "                                                                                \r"
     ]
    }
   ],
   "source": [
    "from pyspark.sql.functions import udf\n",
    "from pyspark.sql.types import IntegerType\n",
    "\n",
    "# Assuming df_boxscore is your DataFrame\n",
    "def convert_to_seconds(time_str):\n",
    "    minutes, seconds = map(int, time_str.split(':'))\n",
    "    return minutes * 60 + seconds\n",
    "\n",
    "# Create a user-defined function (UDF) for the conversion\n",
    "convert_to_seconds_udf = udf(convert_to_seconds, IntegerType())\n",
    "\n",
    "# Apply the UDF to the \"MP\" column and create a new \"MP_seconds\" column\n",
    "df_boxscore = df_boxscore.withColumn(\"MP_seconds\", convert_to_seconds_udf(col(\"MP\")))\n",
    "\n",
    "# Show the DataFrame with the new \"MP_seconds\" column\n",
    "df_boxscore.show(20)\n"
   ]
  },
  {
   "cell_type": "code",
   "execution_count": 144,
   "id": "63ca6f25-5c9c-41bf-923a-95dfebc62e79",
   "metadata": {
    "tags": []
   },
   "outputs": [
    {
     "name": "stderr",
     "output_type": "stream",
     "text": [
      "[Stage 586:>                                                        (0 + 1) / 1]\r"
     ]
    },
    {
     "name": "stdout",
     "output_type": "stream",
     "text": [
      "+-------+-------------------+-------------+---+---+---+---+---+---+---+---+---+---+---+---+---+---+---+---+---------+---------------+---------+----------+\n",
      "|game_id|           teamName|   playerName| FG|FGA| 3P|3PA| FT|FTA|ORB|DRB|TRB|AST|STL|BLK|TOV| PF|PTS|+/-|isStarter|seasonStartYear|isRegular|MP_seconds|\n",
      "+-------+-------------------+-------------+---+---+---+---+---+---+---+---+---+---+---+---+---+---+---+---+---------+---------------+---------+----------+\n",
      "|   4577|Seattle SuperSonics|  Gary Payton| 10| 26|  2|  9|  5|  7|  4| 10| 14| 10|  1|  0|  6|  4| 27| -6|        1|           2000|        1|      2880|\n",
      "|   4577|Seattle SuperSonics|    Vin Baker|  7| 16|  0|  0|  5|  6|  2|  5|  7|  1|  1|  4|  3|  3| 19|  0|        1|           2000|        1|      2248|\n",
      "|   4577|Seattle SuperSonics|Patrick Ewing|  1|  6|  0|  0|  0|  0|  2| 10| 12|  2|  0|  2|  3|  4|  2|-15|        1|           2000|        1|      2196|\n",
      "|   4577|Seattle SuperSonics|Rashard Lewis|  3| 10|  2|  5|  3|  4|  1|  4|  5|  1|  1|  0|  3|  5| 11| -4|        1|           2000|        1|      2072|\n",
      "|   4577|Seattle SuperSonics|Desmond Mason|  3|  9|  0|  3|  1|  2|  3|  2|  5|  2|  0|  1|  1|  5|  7|-15|        1|           2000|        1|      1021|\n",
      "+-------+-------------------+-------------+---+---+---+---+---+---+---+---+---+---+---+---+---+---+---+---+---------+---------------+---------+----------+\n",
      "only showing top 5 rows\n",
      "\n"
     ]
    },
    {
     "name": "stderr",
     "output_type": "stream",
     "text": [
      "                                                                                \r"
     ]
    }
   ],
   "source": [
    "#removing notes and startET from df_games\n",
    "columns_to_drop = [\"MP\"]\n",
    "\n",
    "# Drop the specified columns\n",
    "df_boxscore = df_boxscore.drop(*columns_to_drop)\n",
    "\n",
    "# Show the first 5 rows of the updated df_games DataFrame\n",
    "df_boxscore.show(5)"
   ]
  },
  {
   "cell_type": "code",
   "execution_count": 142,
   "id": "41770507-3263-479d-ba0c-495f9f78d87b",
   "metadata": {
    "tags": []
   },
   "outputs": [
    {
     "name": "stderr",
     "output_type": "stream",
     "text": [
      "[Stage 569:>                                                        (0 + 1) / 1]\r"
     ]
    },
    {
     "name": "stdout",
     "output_type": "stream",
     "text": [
      "+-------+--------+----------+---+---+---+---+---+---+---+---+---+---+---+---+---+---+---+---+---+---------+---------------+---------+----------+\n",
      "|game_id|teamName|playerName| MP| FG|FGA| 3P|3PA| FT|FTA|ORB|DRB|TRB|AST|STL|BLK|TOV| PF|PTS|+/-|isStarter|seasonStartYear|isRegular|MP_seconds|\n",
      "+-------+--------+----------+---+---+---+---+---+---+---+---+---+---+---+---+---+---+---+---+---+---------+---------------+---------+----------+\n",
      "|      0|       0|         0|  0|  0|  0|  0|  0|  0|  0|  0|  0|  0|  0|  0|  0|  0|  0|  0|  0|        0|              0|        0|         0|\n",
      "+-------+--------+----------+---+---+---+---+---+---+---+---+---+---+---+---+---+---+---+---+---+---------+---------------+---------+----------+\n",
      "\n"
     ]
    },
    {
     "name": "stderr",
     "output_type": "stream",
     "text": [
      "                                                                                \r"
     ]
    }
   ],
   "source": [
    "from pyspark.sql.functions import col,isnan, when, count\n",
    "df_boxscore.select([count(when(isnan(c) | col(c).isNull(), c)).alias(c) for c in df_boxscore.columns]\n",
    "   ).show()"
   ]
  },
  {
   "cell_type": "code",
   "execution_count": 145,
   "id": "eb963164-7948-4115-bed2-b7d04bc23b02",
   "metadata": {
    "tags": []
   },
   "outputs": [
    {
     "name": "stdout",
     "output_type": "stream",
     "text": [
      "root\n",
      " |-- game_id: integer (nullable = true)\n",
      " |-- teamName: string (nullable = true)\n",
      " |-- playerName: string (nullable = true)\n",
      " |-- FG: integer (nullable = true)\n",
      " |-- FGA: integer (nullable = true)\n",
      " |-- 3P: integer (nullable = true)\n",
      " |-- 3PA: integer (nullable = true)\n",
      " |-- FT: integer (nullable = true)\n",
      " |-- FTA: integer (nullable = true)\n",
      " |-- ORB: integer (nullable = true)\n",
      " |-- DRB: integer (nullable = true)\n",
      " |-- TRB: integer (nullable = true)\n",
      " |-- AST: integer (nullable = true)\n",
      " |-- STL: integer (nullable = true)\n",
      " |-- BLK: integer (nullable = true)\n",
      " |-- TOV: integer (nullable = true)\n",
      " |-- PF: integer (nullable = true)\n",
      " |-- PTS: integer (nullable = true)\n",
      " |-- +/-: integer (nullable = true)\n",
      " |-- isStarter: integer (nullable = true)\n",
      " |-- seasonStartYear: integer (nullable = true)\n",
      " |-- isRegular: integer (nullable = true)\n",
      " |-- MP_seconds: integer (nullable = true)\n",
      "\n"
     ]
    }
   ],
   "source": [
    "df_boxscore.printSchema()"
   ]
  },
  {
   "cell_type": "code",
   "execution_count": 146,
   "id": "52e22df7-617c-4525-acc7-236d8e1a1990",
   "metadata": {
    "tags": []
   },
   "outputs": [
    {
     "name": "stderr",
     "output_type": "stream",
     "text": [
      "[Stage 591:>                                                        (0 + 1) / 1]\r"
     ]
    },
    {
     "name": "stdout",
     "output_type": "stream",
     "text": [
      "288039 5098\n"
     ]
    },
    {
     "name": "stderr",
     "output_type": "stream",
     "text": [
      "                                                                                \r"
     ]
    }
   ],
   "source": [
    "print(df_boxscore.count(), df_salaries.count())"
   ]
  },
  {
   "cell_type": "markdown",
   "id": "27a28b1e-fd07-494d-94f0-066e037fa40d",
   "metadata": {},
   "source": [
    "# writing for better sharing"
   ]
  },
  {
   "cell_type": "code",
   "execution_count": 147,
   "id": "47e856d7-c5d3-4bd6-8138-a9008d9dfa2c",
   "metadata": {
    "tags": []
   },
   "outputs": [
    {
     "name": "stderr",
     "output_type": "stream",
     "text": [
      "                                                                                \r"
     ]
    }
   ],
   "source": [
    "#writing csv for the sharing via github\n",
    "output_path = \"data/df_boxscore_2000-2010\"\n",
    "df_boxscore.write.csv(output_path, header=True, mode=\"overwrite\")\n",
    "\n",
    "output_path = \"data/df_salaries_2000-2010\"\n",
    "df_salaries.write.csv(output_path, header=True, mode=\"overwrite\")"
   ]
  },
  {
   "cell_type": "code",
   "execution_count": null,
   "id": "c8517d99-dec8-44f5-8915-cbcccc5884bd",
   "metadata": {},
   "outputs": [],
   "source": []
  }
 ],
 "metadata": {
  "kernelspec": {
   "display_name": "Python 3 (ipykernel)",
   "language": "python",
   "name": "python3"
  },
  "language_info": {
   "codemirror_mode": {
    "name": "ipython",
    "version": 3
   },
   "file_extension": ".py",
   "mimetype": "text/x-python",
   "name": "python",
   "nbconvert_exporter": "python",
   "pygments_lexer": "ipython3",
   "version": "3.10.11"
  }
 },
 "nbformat": 4,
 "nbformat_minor": 5
}
